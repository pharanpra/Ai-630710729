{
  "nbformat": 4,
  "nbformat_minor": 0,
  "metadata": {
    "colab": {
      "provenance": [],
      "collapsed_sections": [
        "QMxJ3Jo7jimC",
        "SZtwIA6ZthGm",
        "sbrFwvwpnAoa",
        "ZfBCDHtFnfPS",
        "DZ-zHnGvrQQx",
        "gGbJsTgzfwFO",
        "x8kSaBRmhAt3"
      ]
    },
    "kernelspec": {
      "name": "python3",
      "display_name": "Python 3"
    },
    "language_info": {
      "name": "python"
    }
  },
  "cells": [
    {
      "cell_type": "markdown",
      "source": [
        "# **630710729 นางสาวภารัณ พระสียา**"
      ],
      "metadata": {
        "id": "2UiVn6y7bbII"
      }
    },
    {
      "cell_type": "markdown",
      "source": [
        "# **เตรียมข้อมูลหลัก (Master Dataset)**"
      ],
      "metadata": {
        "id": "QMxJ3Jo7jimC"
      }
    },
    {
      "cell_type": "markdown",
      "source": [
        "## **1.1 นำเข้าไลบรารี pandas และอ่านข้อมูลหลักของไฟล์ 'student.csv'**"
      ],
      "metadata": {
        "id": "SZtwIA6ZthGm"
      }
    },
    {
      "cell_type": "code",
      "execution_count": null,
      "metadata": {
        "id": "P4AmIDqZd2X1"
      },
      "outputs": [],
      "source": [
        "import pandas as pd\n",
        "import numpy as np\n",
        "import warnings\n",
        "warnings.filterwarnings('ignore')"
      ]
    },
    {
      "cell_type": "code",
      "source": [
        "df = pd.read_csv('student.csv')"
      ],
      "metadata": {
        "id": "v7uPif4DePPh"
      },
      "execution_count": null,
      "outputs": []
    },
    {
      "cell_type": "code",
      "source": [
        "df.shape"
      ],
      "metadata": {
        "id": "Kh3noo3beZWG"
      },
      "execution_count": null,
      "outputs": []
    },
    {
      "cell_type": "code",
      "source": [
        "df.head(20)"
      ],
      "metadata": {
        "id": "cSwa1pQzebf9"
      },
      "execution_count": null,
      "outputs": []
    },
    {
      "cell_type": "markdown",
      "source": [
        "## **1.2 แสดงผลข้อมูล&ปัญหาที่พบในข้อมูล**"
      ],
      "metadata": {
        "id": "sbrFwvwpnAoa"
      }
    },
    {
      "cell_type": "code",
      "source": [
        "print(\"=\"*50)\n",
        "print(\"🎯 ข้อมูลหลัก (Master Dataset) \")\n",
        "print(\"=\"*50)\n",
        "print(df)\n",
        "print(\"\\n📊 สรุปปัญหาที่พบในข้อมูล:\")\n",
        "print(f\"- ค่าหายทั้งหมด: {df.isnull().sum().sum()} ค่า\")\n",
        "print(f\"- อายุผิดปกติ: {df[df['อายุ'] > 100]['อายุ'].values if any(df['อายุ'] > 100) else 'ไม่มี'}\")\n",
        "print(f\"- GPA ผิดปกติ: {df[(df['GPA'] < 0) | (df['GPA'] > 4)]['GPA'].values if any((df['GPA'] < 0) | (df['GPA'] > 4)) else 'ไม่มี'}\")\n",
        "print(f\"- รูปแบบการเขียนคณะ: {df['คณะ'].nunique()} แบบ\")\n",
        "print(f\"- รูปแบบการเขียนเพศ: {df['เพศ'].nunique()} แบบ\")"
      ],
      "metadata": {
        "id": "nuu5Q9GNedMH"
      },
      "execution_count": null,
      "outputs": []
    },
    {
      "cell_type": "code",
      "source": [
        "#เก็บสำเนาข้อมูลต้นฉบับเพื่อไม่ให้กระทบข้อมูลต้นฉบับ\n",
        "df_original =df.copy()"
      ],
      "metadata": {
        "id": "-MAiPQE_iw_X"
      },
      "execution_count": null,
      "outputs": []
    },
    {
      "cell_type": "markdown",
      "source": [
        "## **1.3 วิเคราะห์ข้อมูลเบื้องต้น (EDA)**"
      ],
      "metadata": {
        "id": "ZfBCDHtFnfPS"
      }
    },
    {
      "cell_type": "markdown",
      "source": [
        "- วิเคราะห์ข้อมูล df ที่อ่านเข้ามา"
      ],
      "metadata": {
        "id": "-GSIpaWNpxQ0"
      }
    },
    {
      "cell_type": "code",
      "source": [
        "print(\"=\"*50)\n",
        "print(\"📋 ข้อมูลทั่วไปของ Dataset\")\n",
        "print(\"=\"*50)\n",
        "df.info()\n",
        "\n",
        "print(\"\\n\" + \"=\"*50)\n",
        "print(\"📊 สถิติเชิงพรรณนา\")\n",
        "print(\"=\"*50)\n",
        "print(df.describe())"
      ],
      "metadata": {
        "id": "xdHTVY_Rpj-c"
      },
      "execution_count": null,
      "outputs": []
    },
    {
      "cell_type": "markdown",
      "source": [
        "- ตรวจสอบค่าหายในแต่ละคอลัมน์"
      ],
      "metadata": {
        "id": "FrsvzJlGqHiA"
      }
    },
    {
      "cell_type": "code",
      "source": [
        "missing_counts = df.isnull().sum()\n",
        "print(\"\\n❌ ค่าหายในแต่ละคอลัมน์:\")\n",
        "for col, count in missing_counts[missing_counts > 0].items():\n",
        "    percentage = (count / len(df)) * 100\n",
        "    print(f\"   - {col}: {count} ค่า ({percentage:.1f}%)\")"
      ],
      "metadata": {
        "id": "HvbIC3gZqIhN"
      },
      "execution_count": null,
      "outputs": []
    },
    {
      "cell_type": "code",
      "source": [],
      "metadata": {
        "id": "GmtpXs7jbZ0W"
      },
      "execution_count": null,
      "outputs": []
    },
    {
      "cell_type": "markdown",
      "source": [
        "# **เทคนิคจัดการข้อมูล**"
      ],
      "metadata": {
        "id": "DZ-zHnGvrQQx"
      }
    },
    {
      "cell_type": "markdown",
      "source": [
        "## **2.1 จัดการข้อมูลหาย**"
      ],
      "metadata": {
        "id": "qLQO4YcyvKJw"
      }
    },
    {
      "cell_type": "markdown",
      "source": [
        "-  วิธีที่ 1 ลบแถวที่มีค่าหาย"
      ],
      "metadata": {
        "id": "WharVG4cQvts"
      }
    },
    {
      "cell_type": "code",
      "source": [
        "# แสดงข้อมูลก่อนลบ\n",
        "print(\"ก่อนลบ\")\n",
        "print(df)\n",
        "\n",
        "# เหมาะเมื่อมีข้อมูลหายน้อย - ลบแถวที่มีค่าหาย\n",
        "df_clean = df.dropna()\n",
        "\n",
        "print(f\"\\nผลการลบ - ก่อนลบ {len(df)} แถว, หลังลบ {len(df_clean)} แถว\")\n",
        "print(\"หลังลบ (เหลือ 9 คน):\")\n",
        "print(df_clean)"
      ],
      "metadata": {
        "id": "yti-1yOQRS6z"
      },
      "execution_count": null,
      "outputs": []
    },
    {
      "cell_type": "markdown",
      "source": [
        "- วิธีที่ 2 เติมค่าด้วยค่าเฉลี่ย"
      ],
      "metadata": {
        "id": "xCYX-8--RW4C"
      }
    },
    {
      "cell_type": "code",
      "source": [
        "mean_age = df['อายุ'].mean()\n",
        "df['อายุ'].fillna(mean_age, inplace=True)"
      ],
      "metadata": {
        "id": "U_l_Ugi4wS6a"
      },
      "execution_count": null,
      "outputs": []
    },
    {
      "cell_type": "code",
      "source": [
        "df"
      ],
      "metadata": {
        "id": "RnQRF1HBg_Sq"
      },
      "execution_count": null,
      "outputs": []
    },
    {
      "cell_type": "markdown",
      "source": [
        "decription: ใช้ค่าเฉลี่ยมาเติมลงในอายุที่หายไป(NaN)"
      ],
      "metadata": {
        "id": "MrCZZkJo72VU"
      }
    },
    {
      "cell_type": "markdown",
      "source": [
        "- วิธีที่ 3 เติมค่าด้วยค่าที่พบบ่อยที่สุด"
      ],
      "metadata": {
        "id": "v8gRlS-jg0ZP"
      }
    },
    {
      "cell_type": "code",
      "source": [
        "df['คณะ'].fillna(df['คณะ'].mode()[0], inplace=True)"
      ],
      "metadata": {
        "id": "ZC9pyYaihjbc"
      },
      "execution_count": null,
      "outputs": []
    },
    {
      "cell_type": "code",
      "source": [
        "print(\"\\nหลังเติมค่าใหม่\")\n",
        "print(df)"
      ],
      "metadata": {
        "id": "72NlmqmmhqSr"
      },
      "execution_count": null,
      "outputs": []
    },
    {
      "cell_type": "markdown",
      "source": [
        "## **2.2 ทำให้ข้อมูลเป็นมาตรฐาน**"
      ],
      "metadata": {
        "id": "s97BUrCYdBLU"
      }
    },
    {
      "cell_type": "code",
      "source": [
        "def standardize_faculty(name):\n",
        "    if name in ['วิทยาศาสตร์', 'วิทย์', 'Science', 'คณะวิทยาศาสตร์']:\n",
        "        return 'วิทยาศาสตร์'\n",
        "    elif name in ['ศิลปศาสตร์', 'ศิลป์', 'Arts']:\n",
        "        return 'ศิลปศาสตร์'\n",
        "    elif name in ['วิศวะ']:\n",
        "        return 'วิศวกรรมศาสตร์',\n",
        "    else:\n",
        "        return name\n",
        "\n",
        "# ใช้งาน\n",
        "df['คณะ_มาตรฐาน'] = df['คณะ'].apply(standardize_faculty)"
      ],
      "metadata": {
        "id": "Dg9KQAE1fFZP"
      },
      "execution_count": null,
      "outputs": []
    },
    {
      "cell_type": "code",
      "source": [
        "df"
      ],
      "metadata": {
        "id": "E2s1KDUvfXrx"
      },
      "execution_count": null,
      "outputs": []
    },
    {
      "cell_type": "markdown",
      "source": [
        "## **2.3 การจัดการค่าผิดปกติ**"
      ],
      "metadata": {
        "id": "gGbJsTgzfwFO"
      }
    },
    {
      "cell_type": "code",
      "source": [
        "Q1 = df['อายุ'].quantile(0.25)\n",
        "Q3 = df['อายุ'].quantile(0.75)\n",
        "IQR = Q3 - Q1"
      ],
      "metadata": {
        "id": "AZpxBs47w6i0"
      },
      "execution_count": null,
      "outputs": []
    },
    {
      "cell_type": "code",
      "source": [
        "# กำหนดขอบเขต\n",
        "lower_bound = Q1 - 1.5 * IQR\n",
        "upper_bound = Q3 + 1.5 * IQR"
      ],
      "metadata": {
        "id": "nFgmaOpqyf76"
      },
      "execution_count": null,
      "outputs": []
    },
    {
      "cell_type": "code",
      "source": [
        "# กรองค่าผิดปกติ\n",
        "df_no_outliers = df[(df['อายุ'] >= lower_bound) & (df['อายุ'] <= upper_bound)]"
      ],
      "metadata": {
        "id": "rHwTUOXiyhy5"
      },
      "execution_count": null,
      "outputs": []
    },
    {
      "cell_type": "code",
      "source": [
        "print(f\"\\nขอบเขตล่าง - {lower_bound}\")\n",
        "print(f\"ขอบเขตบน - {upper_bound}\")\n",
        "print(f\"\\nข้อมูลหลังกรองค่าผิดปกติ\")\n",
        "print(df_no_outliers)\n",
        "print(f\"\\nค่าเฉลี่ยอายุ (หลังกรองค่าผิดปกติ) - {df_no_outliers['อายุ'].mean():.2f}\")"
      ],
      "metadata": {
        "id": "aXCBqp1e_fFc"
      },
      "execution_count": null,
      "outputs": []
    },
    {
      "cell_type": "markdown",
      "source": [
        "decription: อายุนักศึกษาที่มีค่าผิดปกติ = ใช้ IQR (Interquartile Range)"
      ],
      "metadata": {
        "id": "CTcVfVQmyDv2"
      }
    },
    {
      "cell_type": "markdown",
      "source": [
        "- แก้ไข GPA ผิดปกติ"
      ],
      "metadata": {
        "id": "kMhrxL5tESr1"
      }
    },
    {
      "cell_type": "code",
      "source": [
        "df_no_outliers.loc[df_no_outliers['GPA'] < 0, 'GPA'] = np.nan\n",
        "df_no_outliers.loc[df_no_outliers['GPA'] > 4, 'GPA'] = 4.0\n",
        "\n",
        "mean_gpa = round(df_no_outliers['GPA'].mean(), 2)  # ปัดเป็น 2 ทศนิยม\n",
        "df_no_outliers['GPA'].fillna(mean_gpa, inplace=True)\n",
        "\n",
        "# ปัดทั้งคอลัมน์เป็น 2 ทศนิยม\n",
        "df_no_outliers['GPA'] = df_no_outliers['GPA'].round(2)"
      ],
      "metadata": {
        "id": "oZbaymHDD5FA"
      },
      "execution_count": null,
      "outputs": []
    },
    {
      "cell_type": "code",
      "source": [
        "df_no_outliers"
      ],
      "metadata": {
        "id": "SpYVFTCggf_H"
      },
      "execution_count": null,
      "outputs": []
    },
    {
      "cell_type": "markdown",
      "source": [
        "# **Feature Engineering - การสร้างคุณลักษณะใหม่**"
      ],
      "metadata": {
        "id": "x8kSaBRmhAt3"
      }
    },
    {
      "cell_type": "markdown",
      "source": [
        "## **One-Hot Encoding แปลงข้อมูลประเภทเป็นตัวเลข**"
      ],
      "metadata": {
        "id": "hHeYLAXCm5Mv"
      }
    },
    {
      "cell_type": "code",
      "source": [
        "data_encoded = pd.get_dummies(df, columns=['คณะ'])\n",
        "print(data_encoded)"
      ],
      "metadata": {
        "id": "JLra8l0ym7OT"
      },
      "execution_count": null,
      "outputs": []
    },
    {
      "cell_type": "markdown",
      "source": [
        "## **สร้าง Feature จากวันเวลา = สร้างสถานะชั่วโมงเรียน**"
      ],
      "metadata": {
        "id": "UAiXW0wDlcvj"
      }
    },
    {
      "cell_type": "code",
      "source": [
        "bins = [0, 15, 25, 150] # 150 คือค่าสูงสุดที่สมมติขึ้น\n",
        "labels = ['น้อย', 'ปานกลาง', 'มาก']\n",
        "df['สถานะชั่วโมงเรียน'] = pd.cut(df['ชั่วโมงเรียน_ต่อสัปดาห์'], bins=bins, labels=labels, right=False)\n",
        "df\n"
      ],
      "metadata": {
        "id": "QC7Ly_tPlPoB"
      },
      "execution_count": null,
      "outputs": []
    },
    {
      "cell_type": "markdown",
      "source": [
        "decription: วิเคราะห์จำนวนชั่วโมงเรียนต่อสัปดาห์ โดยแบ่งออกเป็น 3 ช่วง:\n",
        "1. น้อย ถ้าชั่วโมงเรียนน้อยกว่า 15 ชั่วโมงต่อสัปดาห์\n",
        "2.   ปานกลาง ถ้าชั่วโมงเรียนอยู่ระหว่าง 15-25 ชั่วโมงต่อสัปดาห์\n",
        "3.   มาก ถ้าชั่วโมงเรียนมากกว่า 25 ชั่วโมงต่อสัปดาห์"
      ],
      "metadata": {
        "id": "v8lwulISmAwN"
      }
    },
    {
      "cell_type": "markdown",
      "source": [
        "## **การรวม Features = สร้าง BMI จากส่วนสูงและน้ำหนัก**"
      ],
      "metadata": {
        "id": "7iAUX_J9nhOr"
      }
    },
    {
      "cell_type": "code",
      "source": [
        "df['BMI'] = df['น้ำหนัก_kg'] / (df['ส่วนสูง_cm']/100)**2\n",
        "df['สุขภาพ'] = pd.cut(df['BMI'],\n",
        "                                   bins=[0, 18.5, 25, 30, 100],\n",
        "                                   labels=['ผอม', 'ปกติ', 'อ้วน', 'อ้วนมาก'])\n",
        "\n",
        "print(df[['ชื่อ', 'BMI', 'สุขภาพ']])"
      ],
      "metadata": {
        "id": "Ji5_LT_gltZz"
      },
      "execution_count": null,
      "outputs": []
    }
  ]
}